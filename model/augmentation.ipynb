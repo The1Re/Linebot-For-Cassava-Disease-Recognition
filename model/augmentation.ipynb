{
 "cells": [
  {
   "cell_type": "code",
   "execution_count": 1,
   "metadata": {},
   "outputs": [],
   "source": [
    "from tensorflow.keras.preprocessing.image import ImageDataGenerator\n",
    "from skimage import io\n",
    "import numpy as np\n",
    "import os\n",
    "from PIL import Image\n",
    "from tqdm import tqdm\n",
    "import os"
   ]
  },
  {
   "cell_type": "code",
   "execution_count": 2,
   "metadata": {},
   "outputs": [],
   "source": [
    "%reload_ext autoreload\n",
    "%autoreload 2\n",
    "%matplotlib inline"
   ]
  },
  {
   "cell_type": "code",
   "execution_count": 3,
   "metadata": {},
   "outputs": [],
   "source": [
    "# make np image \n",
    "def makenp_image(image_directory):\n",
    "    SIZE = 224\n",
    "    dataset = []\n",
    "    my_images = os.listdir(image_directory)\n",
    "    for _, image_name in tqdm(enumerate(my_images), total=len(my_images)): \n",
    "        if (image_name.endswith(('jpg', 'png', 'JPG', 'PNG'))):    \n",
    "            # print(image_directory + image_name)\n",
    "            image = io.imread(image_directory + image_name)        \n",
    "            image = Image.fromarray(image, 'RGB')        \n",
    "            image = image.resize((SIZE,SIZE)) \n",
    "            dataset.append(np.array(image))\n",
    "    return np.array(dataset)\n",
    "\n",
    "# gen augment image\n",
    "def genimg_augmentation(datagen, x, LABEL, DIRECTORY):\n",
    "    i = 0\n",
    "    for batch in datagen.flow(x, batch_size=len(x),\n",
    "                              save_to_dir= DIRECTORY,\n",
    "                              save_prefix='augment-' + LABEL,\n",
    "                              save_format='jpg'\n",
    "                              ):\n",
    "        i += 1\n",
    "        if i > 0:\n",
    "            break"
   ]
  },
  {
   "cell_type": "code",
   "execution_count": 4,
   "metadata": {},
   "outputs": [],
   "source": [
    "## monitoring parameter \n",
    "LABEL = [\"cbb\", \"cbsd\", \"cgm\", \"cmd\", \"healthy\"]\n",
    "option = 'load' ##create or load\n",
    "\n",
    "# Define the augmentationss\n",
    "augmentations = [\n",
    "    (ImageDataGenerator(brightness_range=[0.6, 0.9]), 'brightness'),\n",
    "    #(ImageDataGenerator(horizontal_flip=True), 'horizontal_flip'),\n",
    "    #(ImageDataGenerator(zoom_range=[0.6, 0.9]), 'zoom'),\n",
    "    #(ImageDataGenerator(vertical_flip=True), 'vertical_flip'),\n",
    "    #(ImageDataGenerator(rotation_range=40), 'rotation')\n",
    "]"
   ]
  },
  {
   "cell_type": "code",
   "execution_count": 6,
   "metadata": {},
   "outputs": [],
   "source": [
    "classnp = './np/'\n",
    "os.makedirs(classnp, exist_ok=True)"
   ]
  },
  {
   "cell_type": "code",
   "execution_count": 5,
   "metadata": {},
   "outputs": [
    {
     "name": "stderr",
     "output_type": "stream",
     "text": [
      "100%|██████████| 1553/1553 [00:28<00:00, 54.75it/s]\n",
      "100%|██████████| 1720/1720 [00:32<00:00, 53.12it/s]\n",
      "100%|██████████| 1838/1838 [00:34<00:00, 53.13it/s]\n",
      "100%|██████████| 1824/1824 [00:34<00:00, 52.74it/s]\n",
      "100%|██████████| 1812/1812 [00:35<00:00, 51.76it/s]\n"
     ]
    }
   ],
   "source": [
    "for label in LABEL:\n",
    "    DIRECTORY = r'dataset/original/' + label + '/'\n",
    "\n",
    "    print(f\"class {label} :\")\n",
    "    if option == 'create':\n",
    "        # Generate a numpy array representation of an image for a given label\n",
    "        x = makenp_image(DIRECTORY)\n",
    "\n",
    "        # Save the numpy array as a .npy file with the same name as the label\n",
    "        np.save(f'{classnp}/{label}.npy', x)\n",
    "    else:\n",
    "        # Load the numpy array from the .npy file\n",
    "        x = np.load(f'{classnp}/{label}.npy')\n",
    "\n",
    "    # Apply augmentations\n",
    "    for augmentation, method in augmentations:\n",
    "        genimg_augmentation(augmentation, x, label, DIRECTORY)\n",
    "print('finish...')"
   ]
  }
 ],
 "metadata": {
  "kernelspec": {
   "display_name": "ai_env",
   "language": "python",
   "name": "python3"
  },
  "language_info": {
   "codemirror_mode": {
    "name": "ipython",
    "version": 3
   },
   "file_extension": ".py",
   "mimetype": "text/x-python",
   "name": "python",
   "nbconvert_exporter": "python",
   "pygments_lexer": "ipython3",
   "version": "3.7.16"
  }
 },
 "nbformat": 4,
 "nbformat_minor": 2
}
